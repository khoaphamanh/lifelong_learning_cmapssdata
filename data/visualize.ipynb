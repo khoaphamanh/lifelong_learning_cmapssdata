{
 "cells": [
  {
   "cell_type": "code",
   "execution_count": 1,
   "metadata": {},
   "outputs": [
    {
     "name": "stdout",
     "output_type": "stream",
     "text": [
      "name           number_of_unit  shape\n",
      "-----------  ----------------  -----------\n",
      "RUL_FD001                 100  (100, 1)\n",
      "RUL_FD002                 259  (259, 1)\n",
      "RUL_FD003                 100  (100, 1)\n",
      "RUL_FD004                 248  (248, 1)\n",
      "test_FD001                100  (13096, 26)\n",
      "test_FD002                259  (33991, 26)\n",
      "test_FD003                100  (16596, 26)\n",
      "test_FD004                248  (41214, 26)\n",
      "train_FD001               100  (20631, 26)\n",
      "train_FD002               260  (53759, 26)\n",
      "train_FD003               100  (24720, 26)\n",
      "train_FD004               249  (61249, 26)\n"
     ]
    }
   ],
   "source": [
    "from analysis import Analysis\n",
    "from ipywidgets import interact, IntSlider, Dropdown\n",
    "import pandas as pd\n",
    "import os\n",
    "\n",
    "# preprocessing\n",
    "analyxix = Analysis()\n",
    "\n",
    "# tabular\n",
    "tabular_file, tabular_unit = analyxix.table_analysis()\n",
    "print( tabular_file)"
   ]
  },
  {
   "cell_type": "code",
   "execution_count": null,
   "metadata": {},
   "outputs": [
    {
     "data": {
      "application/vnd.jupyter.widget-view+json": {
       "model_id": "19e5889986dc4a3e95946979c7e0d2aa",
       "version_major": 2,
       "version_minor": 0
      },
      "text/plain": [
       "interactive(children=(Dropdown(description='name_subset', options=('FD001', 'FD002', 'FD003', 'FD004'), value=…"
      ]
     },
     "metadata": {},
     "output_type": "display_data"
    }
   ],
   "source": [
    "name_subset_choice = Dropdown(options= analyxix.name_subsets, value = \"FD001\") \n",
    "type_data_choice = Dropdown(options=analyxix.type_data, value = \"train\")\n",
    "feature_choice = Dropdown(options=list(range(2,25))+ [\"all\"], value = \"all\")\n",
    "normalize_choice = Dropdown(options=[True,False], value = True)\n",
    "\n",
    "@interact(name_subset=name_subset_choice,type_data = type_data_choice,feature = feature_choice,normalize=normalize_choice)\n",
    "def load_csv(name_subset,type_data,feature,normalize):\n",
    "    #load csv to get the engine\n",
    "    path_csv = os.path.join(\n",
    "            analyxix.path_cmapss_directory, f\"{type_data}_{name_subset}.csv\"\n",
    "        )\n",
    "    df = pd.read_csv(path_csv)\n",
    "    engine_choice = df.iloc[:,0].unique()\n",
    "\n",
    "    @interact(engine = engine_choice)\n",
    "    def plot_ts(engine):\n",
    "        analyxix.plot_visulize_one_unit(\n",
    "                name_subset=name_subset, type_data=type_data, engine=engine, normalize = normalize, feature= feature\n",
    "            )\n",
    "        analyxix.plot_visualize_feature_histogram(name_subset=name_subset, type_data=type_data, engine=engine, normalize = False)\n"
   ]
  },
  {
   "cell_type": "code",
   "execution_count": null,
   "metadata": {},
   "outputs": [
    {
     "data": {
      "application/vnd.jupyter.widget-view+json": {
       "model_id": "d956b7ffdd294f409c39d26741738a7f",
       "version_major": 2,
       "version_minor": 0
      },
      "text/plain": [
       "interactive(children=(Dropdown(description='name_subset', options=('FD001', 'FD002', 'FD003', 'FD004'), value=…"
      ]
     },
     "metadata": {},
     "output_type": "display_data"
    }
   ],
   "source": [
    "@interact(name_subset=name_subset_choice,type_data = type_data_choice,normalize=normalize_choice)\n",
    "def plot_visualize_all_unit_all_feature(name_subset,type_data,normalize):\n",
    "    plot_visualize_all_unit_all_feature = analyxix.plot_visualize_all_unit_all_feature(\n",
    "            name_subset=name_subset, type_data=type_data, normalize=normalize\n",
    "        )\n"
   ]
  }
 ],
 "metadata": {
  "kernelspec": {
   "display_name": "llcmap",
   "language": "python",
   "name": "python3"
  },
  "language_info": {
   "codemirror_mode": {
    "name": "ipython",
    "version": 3
   },
   "file_extension": ".py",
   "mimetype": "text/x-python",
   "name": "python",
   "nbconvert_exporter": "python",
   "pygments_lexer": "ipython3",
   "version": "3.12.9"
  }
 },
 "nbformat": 4,
 "nbformat_minor": 2
}
